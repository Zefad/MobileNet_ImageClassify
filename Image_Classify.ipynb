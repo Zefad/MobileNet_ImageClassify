{
 "cells": [
  {
   "cell_type": "code",
   "execution_count": 7,
   "id": "7125b756-e461-4faa-b3e8-6a67b315a1ba",
   "metadata": {},
   "outputs": [],
   "source": [
    "import tensorflow as tf\n",
    "from tensorflow.keras.applications import MobileNet, mobilenet\n",
    "from tensorflow.keras.applications.imagenet_utils import decode_predictions\n",
    "from tensorflow.keras.preprocessing import image as keras_image\n",
    "import numpy as np\n",
    "from IPython.display import Image, display\n"
   ]
  },
  {
   "cell_type": "code",
   "execution_count": 8,
   "id": "3badcfbe-9904-4131-ab6c-638841758add",
   "metadata": {},
   "outputs": [],
   "source": [
    "def load_image(img_path):\n",
    "    img = keras_image.load_img(img_path, target_size=(224, 224))\n",
    "    img_array = np.expand_dims(keras_image.img_to_array(img), axis=0)\n",
    "    return mobilenet.preprocess_input(img_array)\n",
    "    "
   ]
  },
  {
   "cell_type": "code",
   "execution_count": 9,
   "id": "7e26bd61-20db-414c-b4cc-82412bab2b96",
   "metadata": {},
   "outputs": [],
   "source": [
    "def main():\n",
    "    try:\n",
    "        img_path = input(\"Enter the full path to your image: \")\n",
    "        display(Image(img_path, width=300, height=200))\n",
    "        img = load_image(img_path)\n",
    "        model = MobileNet(weights='imagenet')\n",
    "        predictions = model.predict(img)\n",
    "        results = decode_predictions(predictions, top=2)[0]\n",
    "        print(f\"Predictions for your image '{img_path}':\")\n",
    "        for _, label, prob in results:\n",
    "            print(f\"{label}: {prob * 100:.3f}%\")\n",
    "    except Exception as e:\n",
    "        print(\"An error occurred:\", e)\n",
    "\n",
    "\n"
   ]
  },
  {
   "cell_type": "code",
   "execution_count": 10,
   "id": "bc882a8a-e671-4707-b109-805b474d4694",
   "metadata": {},
   "outputs": [
    {
     "name": "stdin",
     "output_type": "stream",
     "text": [
      "Enter the full path to your image:  sparrow.jpg\n"
     ]
    },
    {
     "data": {
      "image/jpeg": "[encoded data removed]",
      "text/plain": [
       "<IPython.core.display.Image object>"
      ]
     },
     "metadata": {
      "image/jpeg": {
       "height": 200,
       "width": 300
      }
     },
     "output_type": "display_data"
    },
    {
     "name": "stdout",
     "output_type": "stream",
     "text": [
      "\u001b[1m1/1\u001b[0m \u001b[32m━━━━━━━━━━━━━━━━━━━━\u001b[0m\u001b[37m\u001b[0m \u001b[1m1s\u001b[0m 1s/step\n",
      "Predictions for your image 'sparrow.jpg':\n",
      "bulbul: 76.786%\n",
      "coucal: 12.467%\n"
     ]
    }
   ],
   "source": [
    "if __name__ == \"__main__\":\n",
    "    main()"
   ]
  },
  {
   "cell_type": "code",
   "execution_count": null,
   "id": "721a445c-c116-43b4-9745-a54818f51b05",
   "metadata": {},
   "outputs": [],
   "source": []
  },
  {
   "cell_type": "code",
   "execution_count": null,
   "id": "e33d1614-3041-4c82-8e2a-3ae5d1f01c88",
   "metadata": {},
   "outputs": [],
   "source": []
  }
 ],
 "metadata": {
  "kernelspec": {
   "display_name": "Python 3 (ipykernel)",
   "language": "python",
   "name": "python3"
  },
  "language_info": {
   "codemirror_mode": {
    "name": "ipython",
    "version": 3
   },
   "file_extension": ".py",
   "mimetype": "text/x-python",
   "name": "python",
   "nbconvert_exporter": "python",
   "pygments_lexer": "ipython3",
   "version": "3.11.0"
  }
 },
 "nbformat": 4,
 "nbformat_minor": 5
}
